{
 "cells": [
  {
   "cell_type": "code",
   "execution_count": 1,
   "metadata": {},
   "outputs": [
    {
     "name": "stdout",
     "output_type": "stream",
     "text": [
      "Populating the interactive namespace from numpy and matplotlib\n"
     ]
    }
   ],
   "source": [
    "%pylab inline\n",
    "%config InlineBackend.figure_format = 'retina'\n",
    "\n",
    "import sys\n",
    "import os\n",
    "\n",
    "dir_current = globals()['_dh'][0]\n",
    "dir_TNGcube = dir_current+'/../'\n",
    "\n",
    "sys.path.append(dir_TNGcube)\n",
    "\n",
    "from queryTNG import *"
   ]
  },
  {
   "cell_type": "code",
   "execution_count": 2,
   "metadata": {},
   "outputs": [
    {
     "data": {
      "text/plain": [
       "'http://www.tng-project.org/api/'"
      ]
     },
     "execution_count": 2,
     "metadata": {},
     "output_type": "execute_result"
    }
   ],
   "source": [
    "baseURL"
   ]
  },
  {
   "cell_type": "code",
   "execution_count": null,
   "metadata": {},
   "outputs": [],
   "source": []
  },
  {
   "cell_type": "markdown",
   "metadata": {},
   "source": [
    "## Find snapNum given redshift"
   ]
  },
  {
   "cell_type": "code",
   "execution_count": 3,
   "metadata": {},
   "outputs": [
    {
     "data": {
      "text/plain": [
       "75"
      ]
     },
     "execution_count": 3,
     "metadata": {},
     "output_type": "execute_result"
    }
   ],
   "source": [
    "snapNum = get_snapNum(redshift=0.35, simName='TNG50-1', baseURL=baseURL)\n",
    "snapNum"
   ]
  },
  {
   "cell_type": "code",
   "execution_count": null,
   "metadata": {},
   "outputs": [],
   "source": []
  },
  {
   "cell_type": "markdown",
   "metadata": {},
   "source": [
    "## QueryTNG"
   ]
  },
  {
   "cell_type": "code",
   "execution_count": 4,
   "metadata": {},
   "outputs": [],
   "source": [
    "QTNG = QueryTNG(simName='TNG50-1', snapNum=75)"
   ]
  },
  {
   "cell_type": "code",
   "execution_count": 5,
   "metadata": {},
   "outputs": [
    {
     "data": {
      "text/plain": [
       "{'name': 'TNG50-1',\n",
       " 'description': 'Main high-resolution IllustrisTNG50 run including the full TNG physics model.',\n",
       " 'name_alt': 'L35n2160TNG',\n",
       " 'boxsize': 35000.0,\n",
       " 'z_start': 127.0,\n",
       " 'z_final': 0.0,\n",
       " 'cosmology': 'Planck2015',\n",
       " 'omega_0': 0.3089,\n",
       " 'omega_L': 0.6911,\n",
       " 'omega_B': 0.0486,\n",
       " 'hubble': 0.6774,\n",
       " 'physics_model': 'Fiducial TNG Model',\n",
       " 'has_cooling': True,\n",
       " 'has_starformation': True,\n",
       " 'has_winds': True,\n",
       " 'has_blackholes': True,\n",
       " 'mass_gas': 5.73879e-06,\n",
       " 'mass_dm': 3.07367708626464e-05,\n",
       " 'softening_dm_comoving': 0.39,\n",
       " 'softening_stars_comoving': 0.39,\n",
       " 'softening_blackholes_comoving': 0.39,\n",
       " 'softening_gas_comoving': 0.39,\n",
       " 'softening_dm_max_phys': 0.195,\n",
       " 'softening_stars_max_phys': 0.195,\n",
       " 'softening_blackholes_max_phys': 0.39,\n",
       " 'softening_gas_max_phys': 0.195,\n",
       " 'softening_gas_factor': 2.5,\n",
       " 'softening_gas_comoving_min': 0.05,\n",
       " 'num_dm': 10077696000,\n",
       " 'num_tr_mc': 10077696000,\n",
       " 'num_tr_vel': 0,\n",
       " 'longids': True,\n",
       " 'is_uniform': True,\n",
       " 'is_zoom': False,\n",
       " 'is_subbox': False,\n",
       " 'num_files_snapshot': 680,\n",
       " 'num_files_groupcat': 680,\n",
       " 'num_files_rockstar': 0,\n",
       " 'num_files_lhalotree': 200,\n",
       " 'num_files_sublink': 11,\n",
       " 'num_files_ctrees': 0,\n",
       " 'filesize_lhalotree': 353535994456.0,\n",
       " 'filesize_sublink': 658794151862.0,\n",
       " 'filesize_ctrees': 0.0,\n",
       " 'filesize_ics': 322486276720.0,\n",
       " 'filesize_simulation': 944354752.0,\n",
       " 'has_fof': True,\n",
       " 'has_subfind': True,\n",
       " 'has_rockstar': False,\n",
       " 'has_lhalotree': True,\n",
       " 'has_sublink': True,\n",
       " 'has_ctrees': False,\n",
       " 'permission_required': 64,\n",
       " 'num_snapshots': 100,\n",
       " 'url': 'http://www.tng-project.org/api/TNG50-1/',\n",
       " 'parent_simulation': [],\n",
       " 'child_simulations': ['http://www.tng-project.org/api/TNG50-1-Subbox0/',\n",
       "  'http://www.tng-project.org/api/TNG50-1-Subbox2/',\n",
       "  'http://www.tng-project.org/api/TNG50-1-Subbox1/'],\n",
       " 'files': {'lhalotree': 'http://www.tng-project.org/api/TNG50-1/files/lhalotree/',\n",
       "  'sublink': 'http://www.tng-project.org/api/TNG50-1/files/sublink/',\n",
       "  'offsets': 'http://www.tng-project.org/api/TNG50-1/files/offsets/',\n",
       "  'ics': 'http://www.tng-project.org/api/TNG50-1/files/ics.hdf5',\n",
       "  'simulation': 'http://www.tng-project.org/api/TNG50-1/files/simulation.hdf5',\n",
       "  'stellar_circs': 'http://www.tng-project.org/api/TNG50-1/files/stellar_circs.hdf5',\n",
       "  'subhalo_matching_to_dark': 'http://www.tng-project.org/api/TNG50-1/files/subhalo_matching_to_dark.hdf5',\n",
       "  'blackhole_mergers': 'http://www.tng-project.org/api/TNG50-1/files/blackhole_mergers.hdf5',\n",
       "  'blackhole_details': 'http://www.tng-project.org/api/TNG50-1/files/blackhole_details.hdf5',\n",
       "  'stellar_assembly': 'http://www.tng-project.org/api/TNG50-1/files/stellar_assembly.hdf5',\n",
       "  'subbox_subhalo_list_0': 'http://www.tng-project.org/api/TNG50-1/files/subbox_subhalo_list.0.hdf5',\n",
       "  'subbox_subhalo_list_1': 'http://www.tng-project.org/api/TNG50-1/files/subbox_subhalo_list.1.hdf5',\n",
       "  'subbox_subhalo_list_2': 'http://www.tng-project.org/api/TNG50-1/files/subbox_subhalo_list.2.hdf5',\n",
       "  'hih2_galaxy': 'http://www.tng-project.org/api/TNG50-1/files/hih2_galaxy/',\n",
       "  'stellar_sizes': 'http://www.tng-project.org/api/TNG50-1/files/stellar_sizes/'},\n",
       " 'checksums': 'http://www.tng-project.org/api/TNG50-1/checksums/',\n",
       " 'snapshots': 'http://www.tng-project.org/api/TNG50-1/snapshots/'}"
      ]
     },
     "execution_count": 5,
     "metadata": {},
     "output_type": "execute_result"
    }
   ],
   "source": [
    "QTNG.simInfo"
   ]
  },
  {
   "cell_type": "code",
   "execution_count": 6,
   "metadata": {},
   "outputs": [
    {
     "data": {
      "text/plain": [
       "{'simulation': 'http://www.tng-project.org/api/TNG50-1/',\n",
       " 'number': 75,\n",
       " 'redshift': 0.347853841858178,\n",
       " 'num_gas': 8862163389,\n",
       " 'num_dm': 10077696000,\n",
       " 'num_trmc': 10077696000,\n",
       " 'num_stars': 1102338034,\n",
       " 'num_bhs': 4056,\n",
       " 'num_groups_fof': 10537931,\n",
       " 'num_groups_subfind': 6077258,\n",
       " 'num_groups_rockstar': 0,\n",
       " 'filesize_snapshot': 1077235079036.0,\n",
       " 'filesize_groupcat': 6646750894.0,\n",
       " 'filesize_rockstar': 0.0,\n",
       " 'url': 'http://www.tng-project.org/api/TNG50-1/snapshots/75/',\n",
       " 'subhalos': 'http://www.tng-project.org/api/TNG50-1/snapshots/75/subhalos/',\n",
       " 'vis': {'groupcat_sfms': 'http://www.tng-project.org/api/TNG50-1/snapshots/75/subhalos/plot.png?xQuant=mstar2_log&yQuant=ssfr&xlim=9.0%2C11.0',\n",
       "  'groupcat_sizemass': 'http://www.tng-project.org/api/TNG50-1/snapshots/75/subhalos/plot.png?xQuant=mstar2_log&yQuant=size_stars',\n",
       "  'groupcat_mz_gas': 'http://www.tng-project.org/api/TNG50-1/snapshots/75/subhalos/plot.png?xQuant=mstar2_log&yQuant=Z_gas',\n",
       "  'groupcat_mz_stars': 'http://www.tng-project.org/api/TNG50-1/snapshots/75/subhalos/plot.png?xQuant=mstar2_log&yQuant=Z_stars',\n",
       "  'groupcat_mstar_mhalo': 'http://www.tng-project.org/api/TNG50-1/snapshots/75/subhalos/plot.png?xQuant=mhalo_200_log&yQuant=mstar2_log',\n",
       "  'groupcat_smhm': 'http://www.tng-project.org/api/TNG50-1/snapshots/75/subhalos/plot.png?xQuant=mhalo_200_log&yQuant=mstar2_mhalo200_ratio&xlim=10.0%2C14.5',\n",
       "  'groupcat_halo_sizemass': 'http://www.tng-project.org/api/TNG50-1/snapshots/75/subhalos/plot.png?xQuant=mhalo_200_log&yQuant=rhalo_200&xlim=9.0%2C15.0',\n",
       "  'groupcat_fmr': 'http://www.tng-project.org/api/TNG50-1/snapshots/75/subhalos/plot.png?xQuant=mstar2_log&yQuant=delta_sfms&cQuant=Z_gas&xlim=8.5%2C11.0&ylim=-1.5%2C1.5&cRel=0.7%2C1.3'},\n",
       " 'files': {'snapshot': 'http://www.tng-project.org/api/TNG50-1/files/snapshot-75/',\n",
       "  'groupcat': 'http://www.tng-project.org/api/TNG50-1/files/groupcat-75/'}}"
      ]
     },
     "execution_count": 6,
     "metadata": {},
     "output_type": "execute_result"
    }
   ],
   "source": [
    "QTNG.snapInfo"
   ]
  },
  {
   "cell_type": "markdown",
   "metadata": {},
   "source": [
    "## Query subhalo IDs given certain condiction"
   ]
  },
  {
   "cell_type": "code",
   "execution_count": 7,
   "metadata": {},
   "outputs": [
    {
     "name": "stdout",
     "output_type": "stream",
     "text": [
      "search url: http://www.tng-project.org/api/TNG50-1/snapshots/75/subhalos/?limit=10&offset=10&mass__gt=0.6774&mass__lt=67740.0&vmax__gt=50.0&vmax__lt=1050.0\n"
     ]
    },
    {
     "data": {
      "text/plain": [
       "[10, 11, 12, 13, 14, 15, 16, 17, 18, 19]"
      ]
     },
     "execution_count": 7,
     "metadata": {},
     "output_type": "execute_result"
    }
   ],
   "source": [
    "# try different pageID to show subhalos with larger IDs\n",
    "subhaloIDs = QTNG.query_subhaloCat(mass_range=[1e10, 1e15], vmax_range=[50., 1050.], limit=10, pageID=1)\n",
    "subhaloIDs"
   ]
  },
  {
   "cell_type": "markdown",
   "metadata": {},
   "source": [
    "### - use .subhaloCat to quickly view some properties subjected to subhaloIDs"
   ]
  },
  {
   "cell_type": "code",
   "execution_count": 8,
   "metadata": {
    "scrolled": false
   },
   "outputs": [
    {
     "data": {
      "text/plain": [
       "[{'id': 10,\n",
       "  'sfr': 0.0104922,\n",
       "  'mass_log_msun': 11.611495015673922,\n",
       "  'url': 'http://www.tng-project.org/api/TNG50-1/snapshots/75/subhalos/10/'},\n",
       " {'id': 11,\n",
       "  'sfr': 9.23384,\n",
       "  'mass_log_msun': 11.53474760963499,\n",
       "  'url': 'http://www.tng-project.org/api/TNG50-1/snapshots/75/subhalos/11/'},\n",
       " {'id': 12,\n",
       "  'sfr': 0.00174182,\n",
       "  'mass_log_msun': 11.60288144996208,\n",
       "  'url': 'http://www.tng-project.org/api/TNG50-1/snapshots/75/subhalos/12/'},\n",
       " {'id': 13,\n",
       "  'sfr': 0.0,\n",
       "  'mass_log_msun': 11.593184980774321,\n",
       "  'url': 'http://www.tng-project.org/api/TNG50-1/snapshots/75/subhalos/13/'},\n",
       " {'id': 14,\n",
       "  'sfr': 1.87598,\n",
       "  'mass_log_msun': 11.402084879983855,\n",
       "  'url': 'http://www.tng-project.org/api/TNG50-1/snapshots/75/subhalos/14/'},\n",
       " {'id': 15,\n",
       "  'sfr': 0.0,\n",
       "  'mass_log_msun': 11.256343278598884,\n",
       "  'url': 'http://www.tng-project.org/api/TNG50-1/snapshots/75/subhalos/15/'},\n",
       " {'id': 16,\n",
       "  'sfr': 1.87815,\n",
       "  'mass_log_msun': 11.348485374035246,\n",
       "  'url': 'http://www.tng-project.org/api/TNG50-1/snapshots/75/subhalos/16/'},\n",
       " {'id': 17,\n",
       "  'sfr': 0.0,\n",
       "  'mass_log_msun': 11.325749384940465,\n",
       "  'url': 'http://www.tng-project.org/api/TNG50-1/snapshots/75/subhalos/17/'},\n",
       " {'id': 18,\n",
       "  'sfr': 0.0759865,\n",
       "  'mass_log_msun': 10.761284912023388,\n",
       "  'url': 'http://www.tng-project.org/api/TNG50-1/snapshots/75/subhalos/18/'},\n",
       " {'id': 19,\n",
       "  'sfr': 50.8637,\n",
       "  'mass_log_msun': 10.716349656740594,\n",
       "  'url': 'http://www.tng-project.org/api/TNG50-1/snapshots/75/subhalos/19/'}]"
      ]
     },
     "execution_count": 8,
     "metadata": {},
     "output_type": "execute_result"
    }
   ],
   "source": [
    "QTNG.subhaloCat['results']"
   ]
  },
  {
   "cell_type": "markdown",
   "metadata": {},
   "source": [
    "### - use .query_subhaloInfo to check detail properties subjected to the input subhaloID"
   ]
  },
  {
   "cell_type": "code",
   "execution_count": 9,
   "metadata": {},
   "outputs": [
    {
     "data": {
      "text/plain": [
       "{'snap': 75,\n",
       " 'id': 46,\n",
       " 'mass': 5.62947,\n",
       " 'stellarphotometrics_r': -19.0875,\n",
       " 'vmax': 94.5006,\n",
       " 'vmaxrad': 9.9715,\n",
       " 'mass_log_msun': 10.919622316768256,\n",
       " 'cm': array([ 8364.92, 24582.  , 21766.5 ]),\n",
       " 'pos': array([ 8364.78, 24583.6 , 21768.1 ]),\n",
       " 'spin': array([ -96.1246,  -11.3787, -158.723 ]),\n",
       " 'vel': array([-865.215 ,   17.2853, -195.896 ])}"
      ]
     },
     "execution_count": 9,
     "metadata": {},
     "output_type": "execute_result"
    }
   ],
   "source": [
    "subhaloInfo = QTNG.query_subhaloInfo(46)\n",
    "subhaloInfo"
   ]
  },
  {
   "cell_type": "code",
   "execution_count": null,
   "metadata": {},
   "outputs": [],
   "source": [
    " "
   ]
  },
  {
   "cell_type": "code",
   "execution_count": null,
   "metadata": {},
   "outputs": [],
   "source": []
  },
  {
   "cell_type": "markdown",
   "metadata": {},
   "source": [
    "## Download subhalo info and its associated snapshot partical information"
   ]
  },
  {
   "cell_type": "code",
   "execution_count": 10,
   "metadata": {},
   "outputs": [
    {
     "name": "stdout",
     "output_type": "stream",
     "text": [
      "http://www.tng-project.org/api/TNG50-1/snapshots/75/subhalos/5/cutout.hdf5\n",
      "http://www.tng-project.org/api/TNG50-1/snapshots/75/subhalos/46/cutout.hdf5\n"
     ]
    }
   ],
   "source": [
    "catalog = QTNG.download_subhalos(subhaloIDs=[5, 46])"
   ]
  },
  {
   "cell_type": "code",
   "execution_count": 11,
   "metadata": {
    "scrolled": true
   },
   "outputs": [
    {
     "data": {
      "text/plain": [
       "{'snap': 75,\n",
       " 'id': 46,\n",
       " 'mass': 5.62947,\n",
       " 'stellarphotometrics_r': -19.0875,\n",
       " 'vmax': 94.5006,\n",
       " 'vmaxrad': 9.9715,\n",
       " 'mass_log_msun': 10.919622316768256,\n",
       " 'cm': array([ 8364.92, 24582.  , 21766.5 ]),\n",
       " 'pos': array([ 8364.78, 24583.6 , 21768.1 ]),\n",
       " 'spin': array([ -96.1246,  -11.3787, -158.723 ]),\n",
       " 'vel': array([-865.215 ,   17.2853, -195.896 ])}"
      ]
     },
     "execution_count": 11,
     "metadata": {},
     "output_type": "execute_result"
    }
   ],
   "source": [
    "catalog[46].info"
   ]
  },
  {
   "cell_type": "markdown",
   "metadata": {},
   "source": [
    "# Plots"
   ]
  },
  {
   "cell_type": "code",
   "execution_count": 12,
   "metadata": {},
   "outputs": [
    {
     "name": "stdout",
     "output_type": "stream",
     "text": [
      "stellarphotometrics_r: -19.0875\n",
      "vmax: 94.5006\n",
      "vmaxrad: 9.9715\n",
      "spin: [ -96.1246  -11.3787 -158.723 ]\n",
      "tot. spin mag.: 185.90966695642808\n"
     ]
    }
   ],
   "source": [
    "subhalo = pickle.load(open('subhalo_46.pkl', 'rb'))\n",
    "\n",
    "print('stellarphotometrics_r:', subhalo.info['stellarphotometrics_r'])\n",
    "print('vmax:', subhalo.info['vmax'])\n",
    "print('vmaxrad:', subhalo.info['vmaxrad'])\n",
    "\n",
    "print('spin:', subhalo.info['spin'])\n",
    "print('tot. spin mag.:', np.linalg.norm(np.array(subhalo.info['spin'])))"
   ]
  },
  {
   "cell_type": "code",
   "execution_count": 13,
   "metadata": {},
   "outputs": [],
   "source": [
    "pos_label = {0:'$\\Delta x$ [ckpc/h]', 1: '$\\Delta y$ [ckpc/h]', 2:'$\\Delta z$ [ckpc/h]'}\n",
    "vel_label = {0:'$v_x$ [km/s]', 1: '$v_y$ [km/s]', 2:'$v_z$ [km/s]'}\n",
    "image_npix = 151\n",
    "D_x = 15.\n",
    "spec_npix = 51\n",
    "D_v = 130.\n",
    "bins_pos = np.linspace(-D_x, D_x, image_npix)\n",
    "bins_vel = np.linspace(-D_v, D_v, spec_npix)"
   ]
  },
  {
   "cell_type": "code",
   "execution_count": 14,
   "metadata": {},
   "outputs": [
    {
     "data": {
      "image/png": "[encoded data removed]",
      "text/plain": [
       "<Figure size 432x288 with 1 Axes>"
      ]
     },
     "metadata": {
      "image/png": {
       "height": 267,
       "width": 275
      },
      "needs_background": "light"
     },
     "output_type": "display_data"
    }
   ],
   "source": [
    "idx = 0\n",
    "idy = 1\n",
    "ptlType='gas'\n",
    "\n",
    "bins_pos = np.linspace(-D_x, D_x, 91)\n",
    "\n",
    "pos = subhalo.snap[ptlType]['pos']\n",
    "mass = subhalo.snap[ptlType]['mass']\n",
    "ptl2D, x_edg, y_edg, _   = plt.hist2d(pos[:,idx], pos[:,idy], weights=mass, bins=bins_pos)\n",
    "\n",
    "\n",
    "plt.rc('font', size=15)\n",
    "plt.xlabel(pos_label[idx])\n",
    "plt.ylabel(pos_label[idy])\n",
    "#plt.title(ptlType)\n",
    "plt.axis('square')\n",
    "plt.savefig('spiral.pdf',bbox_inches='tight')"
   ]
  },
  {
   "cell_type": "code",
   "execution_count": 15,
   "metadata": {},
   "outputs": [
    {
     "data": {
      "image/png": "[encoded data removed]",
      "text/plain": [
       "<Figure size 432x288 with 1 Axes>"
      ]
     },
     "metadata": {
      "image/png": {
       "height": 273,
       "width": 427
      },
      "needs_background": "light"
     },
     "output_type": "display_data"
    }
   ],
   "source": [
    "id_pos = 1\n",
    "id_vel = 0\n",
    "ptlType='stars'\n",
    "\n",
    "bins_pos = np.linspace(-D_x, D_x, 41)\n",
    "bins_vel = np.linspace(-D_v, D_v, 41)\n",
    "\n",
    "pos = subhalo.snap[ptlType]['pos']\n",
    "mass = subhalo.snap[ptlType]['mass']\n",
    "vel = subhalo.snap[ptlType]['vel']\n",
    "\n",
    "bary2D, x_edg, y_edg, _   = plt.hist2d(pos[:,id_pos], vel[:,id_vel], weights=mass, bins=(bins_pos, bins_vel))\n",
    "\n",
    "plt.rc('font', size=16)\n",
    "plt.xlabel(pos_label[id_pos])\n",
    "plt.ylabel(vel_label[id_vel])\n",
    "#plt.title(ptlType)\n",
    "plt.savefig('spec.pdf',bbox_inches='tight')"
   ]
  },
  {
   "cell_type": "code",
   "execution_count": null,
   "metadata": {},
   "outputs": [],
   "source": []
  }
 ],
 "metadata": {
  "kernelspec": {
   "display_name": "Python 3",
   "language": "python",
   "name": "python3"
  },
  "language_info": {
   "codemirror_mode": {
    "name": "ipython",
    "version": 3
   },
   "file_extension": ".py",
   "mimetype": "text/x-python",
   "name": "python",
   "nbconvert_exporter": "python",
   "pygments_lexer": "ipython3",
   "version": "3.7.4"
  }
 },
 "nbformat": 4,
 "nbformat_minor": 2
}
