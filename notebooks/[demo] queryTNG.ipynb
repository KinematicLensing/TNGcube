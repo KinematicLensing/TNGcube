{
 "cells": [
  {
   "cell_type": "code",
   "execution_count": 1,
   "metadata": {},
   "outputs": [
    {
     "name": "stdout",
     "output_type": "stream",
     "text": [
      "Populating the interactive namespace from numpy and matplotlib\n"
     ]
    }
   ],
   "source": [
    "%pylab inline\n",
    "%config InlineBackend.figure_format = 'retina'\n",
    "\n",
    "import sys\n",
    "import os\n",
    "\n",
    "dir_current = globals()['_dh'][0]\n",
    "dir_TNGcube = dir_current+'/../'\n",
    "\n",
    "sys.path.append(dir_TNGcube)\n",
    "\n",
    "from queryTNG import *"
   ]
  },
  {
   "cell_type": "code",
   "execution_count": 2,
   "metadata": {},
   "outputs": [
    {
     "data": {
      "text/plain": [
       "'http://www.tng-project.org/api/'"
      ]
     },
     "execution_count": 2,
     "metadata": {},
     "output_type": "execute_result"
    }
   ],
   "source": [
    "baseURL"
   ]
  },
  {
   "cell_type": "code",
   "execution_count": null,
   "metadata": {},
   "outputs": [],
   "source": []
  },
  {
   "cell_type": "markdown",
   "metadata": {},
   "source": [
    "## Find snapNum given redshift"
   ]
  },
  {
   "cell_type": "code",
   "execution_count": 3,
   "metadata": {},
   "outputs": [
    {
     "data": {
      "text/plain": [
       "75"
      ]
     },
     "execution_count": 3,
     "metadata": {},
     "output_type": "execute_result"
    }
   ],
   "source": [
    "snapNum = get_snapNum(redshift=0.35, simName='TNG50-1', baseURL=baseURL)\n",
    "snapNum"
   ]
  },
  {
   "cell_type": "code",
   "execution_count": null,
   "metadata": {},
   "outputs": [],
   "source": []
  },
  {
   "cell_type": "markdown",
   "metadata": {},
   "source": [
    "## QueryTNG"
   ]
  },
  {
   "cell_type": "code",
   "execution_count": 4,
   "metadata": {},
   "outputs": [],
   "source": [
    "QTNG = QueryTNG(simName='TNG50-1', snapNum=75)"
   ]
  },
  {
   "cell_type": "code",
   "execution_count": 5,
   "metadata": {
    "collapsed": true
   },
   "outputs": [
    {
     "data": {
      "text/plain": [
       "{'name': 'TNG50-1',\n",
       " 'description': 'Main high-resolution IllustrisTNG50 run including the full TNG physics model.',\n",
       " 'name_alt': 'L35n2160TNG',\n",
       " 'boxsize': 35000.0,\n",
       " 'z_start': 127.0,\n",
       " 'z_final': 0.0,\n",
       " 'cosmology': 'Planck2015',\n",
       " 'omega_0': 0.3089,\n",
       " 'omega_L': 0.6911,\n",
       " 'omega_B': 0.0486,\n",
       " 'hubble': 0.6774,\n",
       " 'physics_model': 'Fiducial TNG Model',\n",
       " 'has_cooling': True,\n",
       " 'has_starformation': True,\n",
       " 'has_winds': True,\n",
       " 'has_blackholes': True,\n",
       " 'mass_gas': 5.73879e-06,\n",
       " 'mass_dm': 3.07367708626464e-05,\n",
       " 'softening_dm_comoving': 0.39,\n",
       " 'softening_stars_comoving': 0.39,\n",
       " 'softening_blackholes_comoving': 0.39,\n",
       " 'softening_gas_comoving': 0.39,\n",
       " 'softening_dm_max_phys': 0.195,\n",
       " 'softening_stars_max_phys': 0.195,\n",
       " 'softening_blackholes_max_phys': 0.39,\n",
       " 'softening_gas_max_phys': 0.195,\n",
       " 'softening_gas_factor': 2.5,\n",
       " 'softening_gas_comoving_min': 0.05,\n",
       " 'num_dm': 10077696000,\n",
       " 'num_tr_mc': 10077696000,\n",
       " 'num_tr_vel': 0,\n",
       " 'longids': True,\n",
       " 'is_uniform': True,\n",
       " 'is_zoom': False,\n",
       " 'is_subbox': False,\n",
       " 'num_files_snapshot': 680,\n",
       " 'num_files_groupcat': 680,\n",
       " 'num_files_rockstar': 0,\n",
       " 'num_files_lhalotree': 200,\n",
       " 'num_files_sublink': 11,\n",
       " 'num_files_ctrees': 0,\n",
       " 'filesize_lhalotree': 353535994456.0,\n",
       " 'filesize_sublink': 658794151862.0,\n",
       " 'filesize_ctrees': 0.0,\n",
       " 'filesize_ics': 322486276720.0,\n",
       " 'filesize_simulation': 944354752.0,\n",
       " 'has_fof': True,\n",
       " 'has_subfind': True,\n",
       " 'has_rockstar': False,\n",
       " 'has_lhalotree': True,\n",
       " 'has_sublink': True,\n",
       " 'has_ctrees': False,\n",
       " 'permission_required': 64,\n",
       " 'num_snapshots': 100,\n",
       " 'url': 'http://www.tng-project.org/api/TNG50-1/',\n",
       " 'parent_simulation': [],\n",
       " 'child_simulations': ['http://www.tng-project.org/api/TNG50-1-Subbox0/',\n",
       "  'http://www.tng-project.org/api/TNG50-1-Subbox2/',\n",
       "  'http://www.tng-project.org/api/TNG50-1-Subbox1/'],\n",
       " 'files': {'lhalotree': 'http://www.tng-project.org/api/TNG50-1/files/lhalotree/',\n",
       "  'sublink': 'http://www.tng-project.org/api/TNG50-1/files/sublink/',\n",
       "  'offsets': 'http://www.tng-project.org/api/TNG50-1/files/offsets/',\n",
       "  'ics': 'http://www.tng-project.org/api/TNG50-1/files/ics.hdf5',\n",
       "  'simulation': 'http://www.tng-project.org/api/TNG50-1/files/simulation.hdf5',\n",
       "  'stellar_circs': 'http://www.tng-project.org/api/TNG50-1/files/stellar_circs.hdf5',\n",
       "  'subhalo_matching_to_dark': 'http://www.tng-project.org/api/TNG50-1/files/subhalo_matching_to_dark.hdf5',\n",
       "  'blackhole_mergers': 'http://www.tng-project.org/api/TNG50-1/files/blackhole_mergers.hdf5',\n",
       "  'blackhole_details': 'http://www.tng-project.org/api/TNG50-1/files/blackhole_details.hdf5',\n",
       "  'stellar_assembly': 'http://www.tng-project.org/api/TNG50-1/files/stellar_assembly.hdf5',\n",
       "  'subbox_subhalo_list_0': 'http://www.tng-project.org/api/TNG50-1/files/subbox_subhalo_list.0.hdf5',\n",
       "  'subbox_subhalo_list_1': 'http://www.tng-project.org/api/TNG50-1/files/subbox_subhalo_list.1.hdf5',\n",
       "  'subbox_subhalo_list_2': 'http://www.tng-project.org/api/TNG50-1/files/subbox_subhalo_list.2.hdf5',\n",
       "  'hih2_galaxy': 'http://www.tng-project.org/api/TNG50-1/files/hih2_galaxy/',\n",
       "  'stellar_sizes': 'http://www.tng-project.org/api/TNG50-1/files/stellar_sizes/'},\n",
       " 'checksums': 'http://www.tng-project.org/api/TNG50-1/checksums/',\n",
       " 'snapshots': 'http://www.tng-project.org/api/TNG50-1/snapshots/'}"
      ]
     },
     "execution_count": 5,
     "metadata": {},
     "output_type": "execute_result"
    }
   ],
   "source": [
    "QTNG.simInfo"
   ]
  },
  {
   "cell_type": "code",
   "execution_count": 7,
   "metadata": {
    "collapsed": true
   },
   "outputs": [
    {
     "data": {
      "text/plain": [
       "{'simulation': 'http://www.tng-project.org/api/TNG50-1/',\n",
       " 'number': 75,\n",
       " 'redshift': 0.347853841858178,\n",
       " 'num_gas': 8862163389,\n",
       " 'num_dm': 10077696000,\n",
       " 'num_trmc': 10077696000,\n",
       " 'num_stars': 1102338034,\n",
       " 'num_bhs': 4056,\n",
       " 'num_groups_fof': 10537931,\n",
       " 'num_groups_subfind': 6077258,\n",
       " 'num_groups_rockstar': 0,\n",
       " 'filesize_snapshot': 1077235079036.0,\n",
       " 'filesize_groupcat': 6646750894.0,\n",
       " 'filesize_rockstar': 0.0,\n",
       " 'url': 'http://www.tng-project.org/api/TNG50-1/snapshots/75/',\n",
       " 'subhalos': 'http://www.tng-project.org/api/TNG50-1/snapshots/75/subhalos/',\n",
       " 'vis': {'groupcat_sfms': 'http://www.tng-project.org/api/TNG50-1/snapshots/75/subhalos/plot.png?xQuant=mstar2_log&yQuant=ssfr&xlim=9.0%2C11.0',\n",
       "  'groupcat_sizemass': 'http://www.tng-project.org/api/TNG50-1/snapshots/75/subhalos/plot.png?xQuant=mstar2_log&yQuant=size_stars',\n",
       "  'groupcat_mz_gas': 'http://www.tng-project.org/api/TNG50-1/snapshots/75/subhalos/plot.png?xQuant=mstar2_log&yQuant=Z_gas',\n",
       "  'groupcat_mz_stars': 'http://www.tng-project.org/api/TNG50-1/snapshots/75/subhalos/plot.png?xQuant=mstar2_log&yQuant=Z_stars',\n",
       "  'groupcat_mstar_mhalo': 'http://www.tng-project.org/api/TNG50-1/snapshots/75/subhalos/plot.png?xQuant=mhalo_200_log&yQuant=mstar2_log',\n",
       "  'groupcat_smhm': 'http://www.tng-project.org/api/TNG50-1/snapshots/75/subhalos/plot.png?xQuant=mhalo_200_log&yQuant=mstar2_mhalo200_ratio&xlim=10.0%2C14.5',\n",
       "  'groupcat_halo_sizemass': 'http://www.tng-project.org/api/TNG50-1/snapshots/75/subhalos/plot.png?xQuant=mhalo_200_log&yQuant=rhalo_200&xlim=9.0%2C15.0',\n",
       "  'groupcat_fmr': 'http://www.tng-project.org/api/TNG50-1/snapshots/75/subhalos/plot.png?xQuant=mstar2_log&yQuant=delta_sfms&cQuant=Z_gas&xlim=8.5%2C11.0&ylim=-1.5%2C1.5&cRel=0.7%2C1.3'},\n",
       " 'files': {'snapshot': 'http://www.tng-project.org/api/TNG50-1/files/snapshot-75/',\n",
       "  'groupcat': 'http://www.tng-project.org/api/TNG50-1/files/groupcat-75/'}}"
      ]
     },
     "execution_count": 7,
     "metadata": {},
     "output_type": "execute_result"
    }
   ],
   "source": [
    "QTNG.snapInfo"
   ]
  },
  {
   "cell_type": "markdown",
   "metadata": {},
   "source": [
    "## Query subhalo IDs given certain condiction"
   ]
  },
  {
   "cell_type": "code",
   "execution_count": 33,
   "metadata": {},
   "outputs": [
    {
     "data": {
      "text/plain": [
       "[0, 1, 2, 3, 4, 5, 6, 7, 8, 9, 10, 11, 12, 13, 14, 15, 16, 17, 18, 19]"
      ]
     },
     "execution_count": 33,
     "metadata": {},
     "output_type": "execute_result"
    }
   ],
   "source": [
    "# try different pageID to show subhalos with larger IDs\n",
    "subhaloIDs = QTNG.query_subhaloCat(mass_min=1e10, vmax_min=50., limit=20, pageID=0)\n",
    "subhaloIDs"
   ]
  },
  {
   "cell_type": "markdown",
   "metadata": {},
   "source": [
    "### - use .subhaloCat to quickly view some properties subjected to subhaloIDs"
   ]
  },
  {
   "cell_type": "code",
   "execution_count": 9,
   "metadata": {
    "scrolled": false
   },
   "outputs": [
    {
     "data": {
      "text/plain": [
       "[{'id': 10,\n",
       "  'sfr': 0.0104922,\n",
       "  'mass_log_msun': 11.611495015673922,\n",
       "  'url': 'http://www.tng-project.org/api/TNG50-1/snapshots/75/subhalos/10/'},\n",
       " {'id': 11,\n",
       "  'sfr': 9.23384,\n",
       "  'mass_log_msun': 11.53474760963499,\n",
       "  'url': 'http://www.tng-project.org/api/TNG50-1/snapshots/75/subhalos/11/'},\n",
       " {'id': 12,\n",
       "  'sfr': 0.00174182,\n",
       "  'mass_log_msun': 11.60288144996208,\n",
       "  'url': 'http://www.tng-project.org/api/TNG50-1/snapshots/75/subhalos/12/'},\n",
       " {'id': 13,\n",
       "  'sfr': 0.0,\n",
       "  'mass_log_msun': 11.593184980774321,\n",
       "  'url': 'http://www.tng-project.org/api/TNG50-1/snapshots/75/subhalos/13/'},\n",
       " {'id': 14,\n",
       "  'sfr': 1.87598,\n",
       "  'mass_log_msun': 11.402084879983855,\n",
       "  'url': 'http://www.tng-project.org/api/TNG50-1/snapshots/75/subhalos/14/'}]"
      ]
     },
     "execution_count": 9,
     "metadata": {},
     "output_type": "execute_result"
    }
   ],
   "source": [
    "QTNG.subhaloCat['results']"
   ]
  },
  {
   "cell_type": "markdown",
   "metadata": {},
   "source": [
    "### - use .query_subhaloInfo to check detail properties subjected to the input subhaloID"
   ]
  },
  {
   "cell_type": "code",
   "execution_count": 26,
   "metadata": {},
   "outputs": [
    {
     "data": {
      "text/plain": [
       "{'snap': 75,\n",
       " 'id': 28,\n",
       " 'mass': 8.75132,\n",
       " 'stellarphotometrics_r': -20.2152,\n",
       " 'vmax': 144.978,\n",
       " 'vmaxrad': 4.4221,\n",
       " 'mass_log_msun': 11.111228372197086,\n",
       " 'cm': [6690.44, 24822.7, 20579.1],\n",
       " 'pos': [6690.79, 24822.8, 20579.2],\n",
       " 'spin': [4.01503, 73.7088, 88.7172],\n",
       " 'vel': [100.091, 309.348, 418.109]}"
      ]
     },
     "execution_count": 26,
     "metadata": {},
     "output_type": "execute_result"
    }
   ],
   "source": [
    "subhaloInfo = QTNG.query_subhaloInfo(28)\n",
    "subhaloInfo"
   ]
  },
  {
   "cell_type": "code",
   "execution_count": null,
   "metadata": {},
   "outputs": [],
   "source": []
  },
  {
   "cell_type": "markdown",
   "metadata": {},
   "source": [
    "## Download subhalo info and its associated snapshot partical information"
   ]
  },
  {
   "cell_type": "code",
   "execution_count": 11,
   "metadata": {},
   "outputs": [
    {
     "name": "stdout",
     "output_type": "stream",
     "text": [
      "http://www.tng-project.org/api/TNG50-1/snapshots/75/subhalos/5/cutout.hdf5\n",
      "http://www.tng-project.org/api/TNG50-1/snapshots/75/subhalos/46/cutout.hdf5\n"
     ]
    }
   ],
   "source": [
    "subhaloInfos = QTNG.download_subhalos(subhaloIDs=[5, 46])"
   ]
  },
  {
   "cell_type": "code",
   "execution_count": 35,
   "metadata": {
    "scrolled": true
   },
   "outputs": [
    {
     "data": {
      "text/plain": [
       "{'snap': 75,\n",
       " 'id': 5,\n",
       " 'mass': 35.6889,\n",
       " 'stellarphotometrics_r': -22.4867,\n",
       " 'vmax': 283.493,\n",
       " 'vmaxrad': 0.9171,\n",
       " 'mass_log_msun': 11.721687970068674,\n",
       " 'cm': [7739.12, 23895.2, 21038.5],\n",
       " 'pos': [7738.81, 23896.9, 21039.0],\n",
       " 'spin': [891.815, 168.882, -535.061],\n",
       " 'vel': [-978.982, 702.392, 233.789],\n",
       " 'snapInfo': {'gas': {'pos': array([[  0.95861328,  -0.10234375,   1.21289062],\n",
       "          [ -0.2059375 ,   1.0265625 ,   1.53515625],\n",
       "          [  0.47960938,   0.88203125,   2.09960938],\n",
       "          ...,\n",
       "          [ 23.07775391, -46.69023438,  -8.3984375 ],\n",
       "          [-28.0965625 ,  16.14570312, -31.2890625 ],\n",
       "          [ 22.27257813,   7.19453125,  48.64648438]]),\n",
       "   'vel': array([[-108.46002  ,   44.68518  , -186.83185  ],\n",
       "          [-222.00458  ,   61.924377 , -245.90671  ],\n",
       "          [-159.92682  ,  -96.53552  , -215.48111  ],\n",
       "          ...,\n",
       "          [  -6.9000854,   62.9953   ,  -64.5336   ],\n",
       "          [  -2.9822998,   90.25006  ,  161.58655  ],\n",
       "          [ 202.0628   , -131.09778  ,   49.85617  ]], dtype=float32),\n",
       "   'mass': array([4.8386646e-06, 5.5638066e-06, 8.2357110e-06, ..., 3.4733077e-06,\n",
       "          3.0455412e-06, 1.0696850e-05], dtype=float32)},\n",
       "  'stars': {'pos': array([[ -0.31335937,   1.72578125,   0.5078125 ],\n",
       "          [ -0.28455078,   1.628125  ,   0.57617188],\n",
       "          [ -0.27234375,   1.74335937,   0.5625    ],\n",
       "          ...,\n",
       "          [  0.65978516,  -4.45390625,  22.40039062],\n",
       "          [-35.58923828,   0.60273437,   2.65820312],\n",
       "          [ -0.99841797, -10.590625  ,  21.72070312]]),\n",
       "   'vel': array([[-1.2366333e+00,  1.5163208e+01, -4.2257690e+00],\n",
       "          [-9.1765747e+00,  6.7260742e+00, -2.2478683e+01],\n",
       "          [-1.3676147e+01,  3.3264160e-02,  4.8441162e+00],\n",
       "          ...,\n",
       "          [-3.4224243e+00, -3.0800058e+02, -2.4551672e+02],\n",
       "          [ 7.7731995e+01,  1.6862744e+02,  2.6863818e+02],\n",
       "          [ 6.0317017e+01, -3.4960312e+02, -1.4367558e+02]], dtype=float32),\n",
       "   'mass': array([3.7138377e-06, 3.2677251e-06, 3.8052019e-06, ..., 3.6746883e-06,\n",
       "          4.0382147e-06, 3.5916855e-06], dtype=float32)}}}"
      ]
     },
     "execution_count": 35,
     "metadata": {},
     "output_type": "execute_result"
    }
   ],
   "source": [
    "subhaloInfos[5]"
   ]
  },
  {
   "cell_type": "code",
   "execution_count": 16,
   "metadata": {},
   "outputs": [
    {
     "data": {
      "text/plain": [
       "[-96.1246, -11.3787, -158.723]"
      ]
     },
     "execution_count": 16,
     "metadata": {},
     "output_type": "execute_result"
    }
   ],
   "source": [
    "subhaloInfo['spin']"
   ]
  },
  {
   "cell_type": "markdown",
   "metadata": {},
   "source": [
    "# Plots"
   ]
  },
  {
   "cell_type": "code",
   "execution_count": 27,
   "metadata": {},
   "outputs": [
    {
     "name": "stdout",
     "output_type": "stream",
     "text": [
      "stellarphotometrics_r: -19.0875\n",
      "vmax: 94.5006\n",
      "vmaxrad: 9.9715\n",
      "spin: [-96.1246, -11.3787, -158.723]\n",
      "tot. spin mag.: 185.90966695642808\n"
     ]
    }
   ],
   "source": [
    "subhaloInfo = pickle.load(open('cutout_46.pkl', 'rb'))\n",
    "\n",
    "print('stellarphotometrics_r:', subhaloInfo['stellarphotometrics_r'])\n",
    "print('vmax:', subhaloInfo['vmax'])\n",
    "print('vmaxrad:', subhaloInfo['vmaxrad'])\n",
    "\n",
    "print('spin:', subhaloInfo['spin'])\n",
    "print('tot. spin mag.:', np.linalg.norm(np.array(subhaloInfo['spin'])))"
   ]
  },
  {
   "cell_type": "code",
   "execution_count": 28,
   "metadata": {},
   "outputs": [],
   "source": [
    "pos_label = {0:'$\\Delta x$ [ckpc/h]', 1: '$\\Delta y$ [ckpc/h]', 2:'$\\Delta z$ [ckpc/h]'}\n",
    "vel_label = {0:'$v_x$ [km/s]', 1: '$v_y$ [km/s]', 2:'$v_z$ [km/s]'}\n",
    "image_npix = 151\n",
    "D_x = 15.\n",
    "spec_npix = 51\n",
    "D_v = 130.\n",
    "bins_pos = np.linspace(-D_x, D_x, image_npix)\n",
    "bins_vel = np.linspace(-D_v, D_v, spec_npix)"
   ]
  },
  {
   "cell_type": "code",
   "execution_count": 29,
   "metadata": {},
   "outputs": [
    {
     "data": {
      "image/png": "[encoded data removed]",
      "text/plain": [
       "<Figure size 432x288 with 1 Axes>"
      ]
     },
     "metadata": {
      "image/png": {
       "height": 279,
       "width": 291
      },
      "needs_background": "light"
     },
     "output_type": "display_data"
    }
   ],
   "source": [
    "idx = 0\n",
    "idy = 2\n",
    "ptlType='gas'\n",
    "\n",
    "bins_pos = np.linspace(-D_x, D_x, 91)\n",
    "\n",
    "pos = subhaloInfo['snapInfo'][ptlType]['pos']\n",
    "mass = subhaloInfo['snapInfo'][ptlType]['mass']\n",
    "ptl2D, x_edg, y_edg, _   = plt.hist2d(pos[:,idx], pos[:,idy], weights=mass, bins=bins_pos)\n",
    "\n",
    "\n",
    "plt.rc('font', size=15)\n",
    "plt.xlabel(pos_label[idx])\n",
    "plt.ylabel(pos_label[idy])\n",
    "#plt.title(ptlType)\n",
    "plt.axis('square')\n",
    "plt.savefig('spiral.pdf',bbox_inches='tight')"
   ]
  },
  {
   "cell_type": "code",
   "execution_count": 20,
   "metadata": {},
   "outputs": [
    {
     "data": {
      "text/plain": [
       "Text(0.5, 1.0, 'gas')"
      ]
     },
     "execution_count": 20,
     "metadata": {},
     "output_type": "execute_result"
    },
    {
     "data": {
      "image/png": "[encoded data removed]",
      "text/plain": [
       "<Figure size 432x288 with 1 Axes>"
      ]
     },
     "metadata": {
      "image/png": {
       "height": 292,
       "width": 427
      },
      "needs_background": "light"
     },
     "output_type": "display_data"
    }
   ],
   "source": [
    "id_pos = 1\n",
    "id_vel = 0\n",
    "ptlType='gas'\n",
    "\n",
    "pos = subhaloInfo['snapInfo'][ptlType]['pos']\n",
    "mass = subhaloInfo['snapInfo'][ptlType]['mass']\n",
    "vel = subhaloInfo['snapInfo'][ptlType]['vel']\n",
    "\n",
    "bary2D, x_edg, y_edg, _   = plt.hist2d(pos[:,id_pos], vel[:,id_vel], weights=mass, bins=(bins_pos, bins_vel))\n",
    "\n",
    "plt.rc('font', size=14)\n",
    "plt.xlabel(pos_label[id_pos])\n",
    "plt.ylabel(vel_label[id_vel])\n",
    "plt.title(ptlType)"
   ]
  },
  {
   "cell_type": "code",
   "execution_count": 21,
   "metadata": {},
   "outputs": [
    {
     "data": {
      "image/png": "[encoded data removed]",
      "text/plain": [
       "<Figure size 432x288 with 1 Axes>"
      ]
     },
     "metadata": {
      "image/png": {
       "height": 272,
       "width": 423
      },
      "needs_background": "light"
     },
     "output_type": "display_data"
    }
   ],
   "source": [
    "id_pos = 1\n",
    "id_vel = 0\n",
    "ptlType='stars'\n",
    "\n",
    "bins_pos = np.linspace(-D_x, D_x, 41)\n",
    "bins_vel = np.linspace(-D_v, D_v, 41)\n",
    "\n",
    "pos = subhaloInfo['snapInfo'][ptlType]['pos']\n",
    "mass = subhaloInfo['snapInfo'][ptlType]['mass']\n",
    "vel = subhaloInfo['snapInfo'][ptlType]['vel']\n",
    "\n",
    "bary2D, x_edg, y_edg, _   = plt.hist2d(pos[:,id_pos], vel[:,id_vel], weights=mass, bins=(bins_pos, bins_vel))\n",
    "\n",
    "plt.rc('font', size=16)\n",
    "plt.xlabel(pos_label[id_pos])\n",
    "plt.ylabel(vel_label[id_vel])\n",
    "#plt.title(ptlType)\n",
    "plt.savefig('spec.pdf',bbox_inches='tight')"
   ]
  },
  {
   "cell_type": "code",
   "execution_count": null,
   "metadata": {},
   "outputs": [],
   "source": []
  }
 ],
 "metadata": {
  "kernelspec": {
   "display_name": "Python 3",
   "language": "python",
   "name": "python3"
  },
  "language_info": {
   "codemirror_mode": {
    "name": "ipython",
    "version": 3
   },
   "file_extension": ".py",
   "mimetype": "text/x-python",
   "name": "python",
   "nbconvert_exporter": "python",
   "pygments_lexer": "ipython3",
   "version": "3.7.4"
  }
 },
 "nbformat": 4,
 "nbformat_minor": 2
}
